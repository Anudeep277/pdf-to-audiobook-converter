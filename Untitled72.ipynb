{
 "cells": [
  {
   "cell_type": "code",
   "execution_count": 1,
   "metadata": {},
   "outputs": [],
   "source": [
    "import pyttsx3\n",
    "import PyPDF2"
   ]
  },
  {
   "cell_type": "code",
   "execution_count": null,
   "metadata": {},
   "outputs": [
    {
     "name": "stdout",
     "output_type": "stream",
     "text": [
      "Playing Audio Book\n",
      "along with his brothers and their wife Draupadi, were exiled from\n",
      " the kingdom. For \n",
      "twelve years they had to live in the forest and upon the thirteenth year they were to hide \n",
      "in a city in disguise. It was during those thirteen years that the brothers grew to learn \n",
      "what it was like to live with the bare minimum and became\n",
      " more knowledgeable. \n",
      "After \n",
      "the thirteenth year Duryodhana decided that he would fight against them which led to a \n",
      "huge war and the deaths of many. Many died from both sides and after the war, they \n",
      "realized that nothing was really gained. \n",
      "  The most dramati\n",
      "c figure of the entire Mahabharata, however, was Krishna who was the \n",
      "supreme personality of Godhead himself, descended to earth in human form to reestablish \n",
      "his devotees as care takers of the earth, and who practiced Dharma. \n",
      "  Krishna was the cousin of bot\n",
      "h parties, but he was a friend and advisor to the Pandavas, \n",
      "became the brother\n",
      "-in-law of Arjuna, and served as Arjuna's mentor and charioteer in the \n",
      "Great War. Krishna is portrayed several times as eager to see the war occur, and in many \n",
      "ways the Pandavas \n",
      "were his human instruments for fulfilling that end. \n",
      "  Throughout their l\n",
      "ives and the terrible Great War, \n",
      "there were examples of the ethical gaps \n",
      "between \n",
      "men which were never resolved. In the aftermath of the war, Yudhishthira alone \n",
      "was terribly troubled, b\n",
      "ut his sense of the war's wrongfulness persisted to the end of the \n",
      "text. This was in spite of the fact that everyone else, from his wife to Krishna, told him \n",
      "the war was right; even the dying patriarch, Bhishma, lectured him at length on all \n",
      "aspects of the\n",
      " Good Law (the Duties and Responsibilities of Kings). \n",
      "  In the years that followed the Great War, the only survivors on the part of the Kauravas, \n",
      "Duryodhana's parents, King Dhritarashtra and his queen, Gandhari lived a life of \n",
      "asceticism in a forest retrea\n",
      "t and died with yogic calm in a forest fire. Kunti, the mother \n",
      "of the Pandavas was with them too. Krishna departed from this earth thirty\n",
      "-six years after \n",
      "the Great War. When they learned of this, the Pandavas believed it was time for them to \n",
      "leave this wor\n",
      "ld too and they embarked upon the 'Great Journey,' which involved walking \n",
      "north toward the polar mountain that is toward the heavenly worlds, until one's body \n",
      "dropped dead. One by one, beginning with Draupadi, the Pandavas died along the way \n",
      "until Yudhisht\n",
      "hira was left alone with a dog that had accompanied him from the start. \n",
      "Yudhishthira made it to the gates of heaven and there refused the order to drive the dog \n",
      "back, at which point the dog was revealed to be an incarnate form of the God Dharma \n",
      "(the God wh\n",
      "o was Yudhishthira's actual, physical father), who was there to test \n",
      "Yudhishthira's virtue. Once in heaven Yudhishthira faced one final test of his virtue: He \n",
      "saw only the Dhartarashtra Clan in heaven, and he was told that his brothers were in hell. \n",
      "He ins\n",
      "isted on joining his brothers in hell, if that were the case! It was then revealed that \n",
      "they were really in heaven, that this illusion had been one final test for him. \n",
      "  In essence, the epic story represents an extended exploration of the responsibilities \n",
      "set forth by the code of dharma. In addition to recounting a heroic tale, the Mahabharata \n",
      "contains a collection of writings on a broad spectrum of human learning, including ethics, \n",
      "law, philosophy, history, geography, genealogy, and religion. It also featu\n",
      "res a number of \n",
      "legends, moral stories, and local tales all woven into an elaborate narrative.\n",
      " \n"
     ]
    }
   ],
   "source": [
    "book = open(r'C:\\Users\\arjun\\Downloads\\summary.pdf','rb')\n",
    "pdf_reader = PyPDF2.PdfFileReader(book)\n",
    "num_pages = pdf_reader.numPages\n",
    "play = pyttsx3.init()\n",
    "print('Playing Audio Book')\n",
    "for num in range(2,num_pages):\n",
    "    page = pdf_reader.getPage(num)\n",
    "    data= page.extractText()\n",
    "    print(data)\n",
    "    play.say(data)\n",
    "    play.runAndWait()"
   ]
  },
  {
   "cell_type": "code",
   "execution_count": null,
   "metadata": {},
   "outputs": [],
   "source": []
  }
 ],
 "metadata": {
  "kernelspec": {
   "display_name": "Python 3",
   "language": "python",
   "name": "python3"
  },
  "language_info": {
   "codemirror_mode": {
    "name": "ipython",
    "version": 3
   },
   "file_extension": ".py",
   "mimetype": "text/x-python",
   "name": "python",
   "nbconvert_exporter": "python",
   "pygments_lexer": "ipython3",
   "version": "3.8.3"
  }
 },
 "nbformat": 4,
 "nbformat_minor": 4
}
